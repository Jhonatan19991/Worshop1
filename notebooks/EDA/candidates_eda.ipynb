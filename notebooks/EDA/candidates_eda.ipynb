{
 "cells": [
  {
   "cell_type": "markdown",
   "metadata": {},
   "source": [
    "# Workshop-1"
   ]
  },
  {
   "cell_type": "markdown",
   "metadata": {},
   "source": [
    "In this session, we will analyze a dataset of job applicants, exploring patterns and insights through exploratory data analysis (EDA). We will focus on understanding variable distributions, correlations, and data integrity issues. "
   ]
  },
  {
   "cell_type": "markdown",
   "metadata": {},
   "source": [
    "# About dataset\n"
   ]
  },
  {
   "cell_type": "markdown",
   "metadata": {},
   "source": [
    "you will receive a CSV file with data from candidates who participated in selection processes (these data were\n",
    "randomly generated), and you will have to do some analysis and manipulations on top of this data.\n",
    "\n",
    "\n",
    "Remember that I consider a candidate HIRED when he has both scores greater than or equal to 7; you should\n",
    "apply this logic to get the correct information. How you will handle this data is on you."
   ]
  },
  {
   "cell_type": "markdown",
   "metadata": {},
   "source": [
    "This dataset contains information about various candidates who applied for different job positions. Each candidate underwent two assessments as part of the application process. The dataset includes the following fields:"
   ]
  },
  {
   "cell_type": "markdown",
   "metadata": {},
   "source": [
    "\n",
    "*   **FirstName**: The candidate's first name\n",
    "*   **LastName**: The candidate's last name\n",
    "*   **Email**: The candidate's email address\n",
    "*   **ApplicationDate**: The date the candidate applied for the job\n",
    "*   **YOE**: Years of experience\n",
    "*   **Seniority**: The position the candidate is applying for\n",
    "*   **Technology**: The area or field the candidate is applying to\n",
    "*   **Code Challenge Score**: A score from 0 to 10 for the practical test\n",
    "*   **Technical Interview Score**: A score from 0 to 10 for the theoretical or technical interview\n"
   ]
  },
  {
   "cell_type": "markdown",
   "metadata": {},
   "source": [
    "# 1. libraries & Data loading"
   ]
  },
  {
   "cell_type": "code",
   "execution_count": 4,
   "metadata": {},
   "outputs": [],
   "source": [
    "import pandas as pd\n",
    "import numpy as np\n",
    "import matplotlib.pyplot as plt\n",
    "import seaborn as sns\n"
   ]
  },
  {
   "cell_type": "code",
   "execution_count": 2,
   "metadata": {},
   "outputs": [],
   "source": [
    "plt.style.use('ggplot')"
   ]
  },
  {
   "cell_type": "code",
   "execution_count": 6,
   "metadata": {},
   "outputs": [
    {
     "data": {
      "text/html": [
       "<div>\n",
       "<style scoped>\n",
       "    .dataframe tbody tr th:only-of-type {\n",
       "        vertical-align: middle;\n",
       "    }\n",
       "\n",
       "    .dataframe tbody tr th {\n",
       "        vertical-align: top;\n",
       "    }\n",
       "\n",
       "    .dataframe thead th {\n",
       "        text-align: right;\n",
       "    }\n",
       "</style>\n",
       "<table border=\"1\" class=\"dataframe\">\n",
       "  <thead>\n",
       "    <tr style=\"text-align: right;\">\n",
       "      <th></th>\n",
       "      <th>First Name</th>\n",
       "      <th>Last Name</th>\n",
       "      <th>Email</th>\n",
       "      <th>Application Date</th>\n",
       "      <th>Country</th>\n",
       "      <th>YOE</th>\n",
       "      <th>Seniority</th>\n",
       "      <th>Technology</th>\n",
       "      <th>Code Challenge Score</th>\n",
       "      <th>Technical Interview Score</th>\n",
       "    </tr>\n",
       "  </thead>\n",
       "  <tbody>\n",
       "    <tr>\n",
       "      <th>0</th>\n",
       "      <td>Bernadette</td>\n",
       "      <td>Langworth</td>\n",
       "      <td>leonard91@yahoo.com</td>\n",
       "      <td>2021-02-26</td>\n",
       "      <td>Norway</td>\n",
       "      <td>2</td>\n",
       "      <td>Intern</td>\n",
       "      <td>Data Engineer</td>\n",
       "      <td>3</td>\n",
       "      <td>3</td>\n",
       "    </tr>\n",
       "    <tr>\n",
       "      <th>1</th>\n",
       "      <td>Camryn</td>\n",
       "      <td>Reynolds</td>\n",
       "      <td>zelda56@hotmail.com</td>\n",
       "      <td>2021-09-09</td>\n",
       "      <td>Panama</td>\n",
       "      <td>10</td>\n",
       "      <td>Intern</td>\n",
       "      <td>Data Engineer</td>\n",
       "      <td>2</td>\n",
       "      <td>10</td>\n",
       "    </tr>\n",
       "    <tr>\n",
       "      <th>2</th>\n",
       "      <td>Larue</td>\n",
       "      <td>Spinka</td>\n",
       "      <td>okey_schultz41@gmail.com</td>\n",
       "      <td>2020-04-14</td>\n",
       "      <td>Belarus</td>\n",
       "      <td>4</td>\n",
       "      <td>Mid-Level</td>\n",
       "      <td>Client Success</td>\n",
       "      <td>10</td>\n",
       "      <td>9</td>\n",
       "    </tr>\n",
       "    <tr>\n",
       "      <th>3</th>\n",
       "      <td>Arch</td>\n",
       "      <td>Spinka</td>\n",
       "      <td>elvera_kulas@yahoo.com</td>\n",
       "      <td>2020-10-01</td>\n",
       "      <td>Eritrea</td>\n",
       "      <td>25</td>\n",
       "      <td>Trainee</td>\n",
       "      <td>QA Manual</td>\n",
       "      <td>7</td>\n",
       "      <td>1</td>\n",
       "    </tr>\n",
       "    <tr>\n",
       "      <th>4</th>\n",
       "      <td>Larue</td>\n",
       "      <td>Altenwerth</td>\n",
       "      <td>minnie.gislason@gmail.com</td>\n",
       "      <td>2020-05-20</td>\n",
       "      <td>Myanmar</td>\n",
       "      <td>13</td>\n",
       "      <td>Mid-Level</td>\n",
       "      <td>Social Media Community Management</td>\n",
       "      <td>9</td>\n",
       "      <td>7</td>\n",
       "    </tr>\n",
       "  </tbody>\n",
       "</table>\n",
       "</div>"
      ],
      "text/plain": [
       "   First Name   Last Name                      Email Application Date  \\\n",
       "0  Bernadette   Langworth        leonard91@yahoo.com       2021-02-26   \n",
       "1      Camryn    Reynolds        zelda56@hotmail.com       2021-09-09   \n",
       "2       Larue      Spinka   okey_schultz41@gmail.com       2020-04-14   \n",
       "3        Arch      Spinka     elvera_kulas@yahoo.com       2020-10-01   \n",
       "4       Larue  Altenwerth  minnie.gislason@gmail.com       2020-05-20   \n",
       "\n",
       "   Country  YOE  Seniority                         Technology  \\\n",
       "0   Norway    2     Intern                      Data Engineer   \n",
       "1   Panama   10     Intern                      Data Engineer   \n",
       "2  Belarus    4  Mid-Level                     Client Success   \n",
       "3  Eritrea   25    Trainee                          QA Manual   \n",
       "4  Myanmar   13  Mid-Level  Social Media Community Management   \n",
       "\n",
       "   Code Challenge Score  Technical Interview Score  \n",
       "0                     3                          3  \n",
       "1                     2                         10  \n",
       "2                    10                          9  \n",
       "3                     7                          1  \n",
       "4                     9                          7  "
      ]
     },
     "execution_count": 6,
     "metadata": {},
     "output_type": "execute_result"
    }
   ],
   "source": [
    "df = pd.read_csv('../../data/candidates.csv', sep=\";\")\n",
    "df.head()"
   ]
  },
  {
   "cell_type": "markdown",
   "metadata": {},
   "source": [
    "# Summary of data"
   ]
  },
  {
   "cell_type": "code",
   "execution_count": 4,
   "metadata": {},
   "outputs": [
    {
     "data": {
      "text/plain": [
       "(50000, 10)"
      ]
     },
     "execution_count": 4,
     "metadata": {},
     "output_type": "execute_result"
    }
   ],
   "source": [
    "df.shape"
   ]
  },
  {
   "cell_type": "code",
   "execution_count": 5,
   "metadata": {},
   "outputs": [
    {
     "data": {
      "text/html": [
       "<div>\n",
       "<style scoped>\n",
       "    .dataframe tbody tr th:only-of-type {\n",
       "        vertical-align: middle;\n",
       "    }\n",
       "\n",
       "    .dataframe tbody tr th {\n",
       "        vertical-align: top;\n",
       "    }\n",
       "\n",
       "    .dataframe thead th {\n",
       "        text-align: right;\n",
       "    }\n",
       "</style>\n",
       "<table border=\"1\" class=\"dataframe\">\n",
       "  <thead>\n",
       "    <tr style=\"text-align: right;\">\n",
       "      <th></th>\n",
       "      <th>First Name</th>\n",
       "      <th>Last Name</th>\n",
       "      <th>Email</th>\n",
       "      <th>Application Date</th>\n",
       "      <th>Country</th>\n",
       "      <th>YOE</th>\n",
       "      <th>Seniority</th>\n",
       "      <th>Technology</th>\n",
       "      <th>Code Challenge Score</th>\n",
       "      <th>Technical Interview Score</th>\n",
       "    </tr>\n",
       "  </thead>\n",
       "  <tbody>\n",
       "  </tbody>\n",
       "</table>\n",
       "</div>"
      ],
      "text/plain": [
       "Empty DataFrame\n",
       "Columns: [First Name, Last Name, Email, Application Date, Country, YOE, Seniority, Technology, Code Challenge Score, Technical Interview Score]\n",
       "Index: []"
      ]
     },
     "execution_count": 5,
     "metadata": {},
     "output_type": "execute_result"
    }
   ],
   "source": [
    "#Missing data?\n",
    "df[df.isnull().any(axis=1)]"
   ]
  },
  {
   "cell_type": "code",
   "execution_count": 6,
   "metadata": {},
   "outputs": [
    {
     "name": "stdout",
     "output_type": "stream",
     "text": [
      "<class 'pandas.core.frame.DataFrame'>\n",
      "RangeIndex: 50000 entries, 0 to 49999\n",
      "Data columns (total 10 columns):\n",
      " #   Column                     Non-Null Count  Dtype \n",
      "---  ------                     --------------  ----- \n",
      " 0   First Name                 50000 non-null  object\n",
      " 1   Last Name                  50000 non-null  object\n",
      " 2   Email                      50000 non-null  object\n",
      " 3   Application Date           50000 non-null  object\n",
      " 4   Country                    50000 non-null  object\n",
      " 5   YOE                        50000 non-null  int64 \n",
      " 6   Seniority                  50000 non-null  object\n",
      " 7   Technology                 50000 non-null  object\n",
      " 8   Code Challenge Score       50000 non-null  int64 \n",
      " 9   Technical Interview Score  50000 non-null  int64 \n",
      "dtypes: int64(3), object(7)\n",
      "memory usage: 3.8+ MB\n"
     ]
    }
   ],
   "source": [
    "df.info()"
   ]
  },
  {
   "cell_type": "markdown",
   "metadata": {},
   "source": [
    "Most of the data in this dataset is nominal, and there do not appear to be any missing values, so data imputation won't be necessary. There are three numerical values. We should add an additional column to indicate whether a candidate passed and was hired. If both the Code Challenge Score and Technical Interview Score are greater than 7, the candidate will be considered hired otherwise, they will not.\n",
    "\n"
   ]
  },
  {
   "cell_type": "markdown",
   "metadata": {},
   "source": [
    "# Important information, Outliers? or maybe Patterns?"
   ]
  },
  {
   "cell_type": "code",
   "execution_count": 7,
   "metadata": {},
   "outputs": [],
   "source": [
    "def stadistic_count(num):\n",
    "\n",
    "    stadistic = num.describe().T\n",
    "    stadistic['median'] = num.median()\n",
    "    stadistic = stadistic.iloc[:,[0,1,8,2,3,4,5,6,7]]\n",
    "    #Lo devolvemos\n",
    "    return(stadistic)"
   ]
  },
  {
   "cell_type": "code",
   "execution_count": 8,
   "metadata": {},
   "outputs": [
    {
     "data": {
      "text/html": [
       "<div>\n",
       "<style scoped>\n",
       "    .dataframe tbody tr th:only-of-type {\n",
       "        vertical-align: middle;\n",
       "    }\n",
       "\n",
       "    .dataframe tbody tr th {\n",
       "        vertical-align: top;\n",
       "    }\n",
       "\n",
       "    .dataframe thead th {\n",
       "        text-align: right;\n",
       "    }\n",
       "</style>\n",
       "<table border=\"1\" class=\"dataframe\">\n",
       "  <thead>\n",
       "    <tr style=\"text-align: right;\">\n",
       "      <th></th>\n",
       "      <th>count</th>\n",
       "      <th>mean</th>\n",
       "      <th>median</th>\n",
       "      <th>std</th>\n",
       "      <th>min</th>\n",
       "      <th>25%</th>\n",
       "      <th>50%</th>\n",
       "      <th>75%</th>\n",
       "      <th>max</th>\n",
       "    </tr>\n",
       "  </thead>\n",
       "  <tbody>\n",
       "    <tr>\n",
       "      <th>YOE</th>\n",
       "      <td>50000.0</td>\n",
       "      <td>15.28698</td>\n",
       "      <td>15.0</td>\n",
       "      <td>8.830652</td>\n",
       "      <td>0.0</td>\n",
       "      <td>8.0</td>\n",
       "      <td>15.0</td>\n",
       "      <td>23.0</td>\n",
       "      <td>30.0</td>\n",
       "    </tr>\n",
       "    <tr>\n",
       "      <th>Code Challenge Score</th>\n",
       "      <td>50000.0</td>\n",
       "      <td>4.99640</td>\n",
       "      <td>5.0</td>\n",
       "      <td>3.166896</td>\n",
       "      <td>0.0</td>\n",
       "      <td>2.0</td>\n",
       "      <td>5.0</td>\n",
       "      <td>8.0</td>\n",
       "      <td>10.0</td>\n",
       "    </tr>\n",
       "    <tr>\n",
       "      <th>Technical Interview Score</th>\n",
       "      <td>50000.0</td>\n",
       "      <td>5.00388</td>\n",
       "      <td>5.0</td>\n",
       "      <td>3.165082</td>\n",
       "      <td>0.0</td>\n",
       "      <td>2.0</td>\n",
       "      <td>5.0</td>\n",
       "      <td>8.0</td>\n",
       "      <td>10.0</td>\n",
       "    </tr>\n",
       "  </tbody>\n",
       "</table>\n",
       "</div>"
      ],
      "text/plain": [
       "                             count      mean  median       std  min  25%  \\\n",
       "YOE                        50000.0  15.28698    15.0  8.830652  0.0  8.0   \n",
       "Code Challenge Score       50000.0   4.99640     5.0  3.166896  0.0  2.0   \n",
       "Technical Interview Score  50000.0   5.00388     5.0  3.165082  0.0  2.0   \n",
       "\n",
       "                            50%   75%   max  \n",
       "YOE                        15.0  23.0  30.0  \n",
       "Code Challenge Score        5.0   8.0  10.0  \n",
       "Technical Interview Score   5.0   8.0  10.0  "
      ]
     },
     "execution_count": 8,
     "metadata": {},
     "output_type": "execute_result"
    }
   ],
   "source": [
    "stadistic_count(df.select_dtypes('number'))"
   ]
  },
  {
   "cell_type": "markdown",
   "metadata": {},
   "source": [
    "The data does not seem to have any erroneous scores, as the minimum and maximum values for the scores are 0 and 10, respectively, and there is a maximum of 30 years of experience. Additionally, the numerical values appear to follow a uniform distribution since the mean and median have similar values. This is expected because the data was randomly generated, which typically results in a uniform distribution. Consequently, there are no outliers for the same reason."
   ]
  },
  {
   "cell_type": "code",
   "execution_count": 9,
   "metadata": {},
   "outputs": [
    {
     "data": {
      "text/html": [
       "<div>\n",
       "<style scoped>\n",
       "    .dataframe tbody tr th:only-of-type {\n",
       "        vertical-align: middle;\n",
       "    }\n",
       "\n",
       "    .dataframe tbody tr th {\n",
       "        vertical-align: top;\n",
       "    }\n",
       "\n",
       "    .dataframe thead th {\n",
       "        text-align: right;\n",
       "    }\n",
       "</style>\n",
       "<table border=\"1\" class=\"dataframe\">\n",
       "  <thead>\n",
       "    <tr style=\"text-align: right;\">\n",
       "      <th></th>\n",
       "      <th>dtypes</th>\n",
       "      <th>null count</th>\n",
       "      <th>duplicate count</th>\n",
       "      <th>unique values</th>\n",
       "    </tr>\n",
       "  </thead>\n",
       "  <tbody>\n",
       "    <tr>\n",
       "      <th>First Name</th>\n",
       "      <td>object</td>\n",
       "      <td>0</td>\n",
       "      <td>0</td>\n",
       "      <td>3007</td>\n",
       "    </tr>\n",
       "    <tr>\n",
       "      <th>Last Name</th>\n",
       "      <td>object</td>\n",
       "      <td>0</td>\n",
       "      <td>0</td>\n",
       "      <td>474</td>\n",
       "    </tr>\n",
       "    <tr>\n",
       "      <th>Email</th>\n",
       "      <td>object</td>\n",
       "      <td>0</td>\n",
       "      <td>0</td>\n",
       "      <td>49833</td>\n",
       "    </tr>\n",
       "    <tr>\n",
       "      <th>Application Date</th>\n",
       "      <td>object</td>\n",
       "      <td>0</td>\n",
       "      <td>0</td>\n",
       "      <td>1646</td>\n",
       "    </tr>\n",
       "    <tr>\n",
       "      <th>Country</th>\n",
       "      <td>object</td>\n",
       "      <td>0</td>\n",
       "      <td>0</td>\n",
       "      <td>244</td>\n",
       "    </tr>\n",
       "    <tr>\n",
       "      <th>YOE</th>\n",
       "      <td>int64</td>\n",
       "      <td>0</td>\n",
       "      <td>0</td>\n",
       "      <td>31</td>\n",
       "    </tr>\n",
       "    <tr>\n",
       "      <th>Seniority</th>\n",
       "      <td>object</td>\n",
       "      <td>0</td>\n",
       "      <td>0</td>\n",
       "      <td>7</td>\n",
       "    </tr>\n",
       "    <tr>\n",
       "      <th>Technology</th>\n",
       "      <td>object</td>\n",
       "      <td>0</td>\n",
       "      <td>0</td>\n",
       "      <td>24</td>\n",
       "    </tr>\n",
       "    <tr>\n",
       "      <th>Code Challenge Score</th>\n",
       "      <td>int64</td>\n",
       "      <td>0</td>\n",
       "      <td>0</td>\n",
       "      <td>11</td>\n",
       "    </tr>\n",
       "    <tr>\n",
       "      <th>Technical Interview Score</th>\n",
       "      <td>int64</td>\n",
       "      <td>0</td>\n",
       "      <td>0</td>\n",
       "      <td>11</td>\n",
       "    </tr>\n",
       "  </tbody>\n",
       "</table>\n",
       "</div>"
      ],
      "text/plain": [
       "                           dtypes  null count  duplicate count  unique values\n",
       "First Name                 object           0                0           3007\n",
       "Last Name                  object           0                0            474\n",
       "Email                      object           0                0          49833\n",
       "Application Date           object           0                0           1646\n",
       "Country                    object           0                0            244\n",
       "YOE                         int64           0                0             31\n",
       "Seniority                  object           0                0              7\n",
       "Technology                 object           0                0             24\n",
       "Code Challenge Score        int64           0                0             11\n",
       "Technical Interview Score   int64           0                0             11"
      ]
     },
     "execution_count": 9,
     "metadata": {},
     "output_type": "execute_result"
    }
   ],
   "source": [
    "summary = pd.DataFrame({\n",
    "    'dtypes': df.dtypes,\n",
    "    'null count': df.isnull().sum(),\n",
    "    'duplicate count': df.duplicated().sum(),\n",
    "    'unique values': df.nunique()\n",
    "})\n",
    "summary"
   ]
  },
  {
   "cell_type": "markdown",
   "metadata": {},
   "source": [
    "Seniority has 7 categories, which allows us to perform analytics on the different levels of seniority and their variations. We can see that not all email addresses are unique, indicating that some individuals have reapplied. We need to identify who has reapplied and examine any variations in their data. If there are changes in the data for reapplicants, this may indicate a lack of data integrity.\n"
   ]
  },
  {
   "cell_type": "code",
   "execution_count": 10,
   "metadata": {},
   "outputs": [
    {
     "data": {
      "text/plain": [
       "Email\n",
       "marianne31@yahoo.com    3\n",
       "fern70@gmail.com        3\n",
       "isaiah24@yahoo.com      2\n",
       "missouri65@yahoo.com    2\n",
       "kelton91@hotmail.com    2\n",
       "Name: count, dtype: int64"
      ]
     },
     "execution_count": 10,
     "metadata": {},
     "output_type": "execute_result"
    }
   ],
   "source": [
    "repeat = df['Email'].value_counts()\n",
    "repeat.sort_values(ascending=False).head()"
   ]
  },
  {
   "cell_type": "code",
   "execution_count": 11,
   "metadata": {},
   "outputs": [
    {
     "data": {
      "text/html": [
       "<div>\n",
       "<style scoped>\n",
       "    .dataframe tbody tr th:only-of-type {\n",
       "        vertical-align: middle;\n",
       "    }\n",
       "\n",
       "    .dataframe tbody tr th {\n",
       "        vertical-align: top;\n",
       "    }\n",
       "\n",
       "    .dataframe thead th {\n",
       "        text-align: right;\n",
       "    }\n",
       "</style>\n",
       "<table border=\"1\" class=\"dataframe\">\n",
       "  <thead>\n",
       "    <tr style=\"text-align: right;\">\n",
       "      <th></th>\n",
       "      <th>First Name</th>\n",
       "      <th>Last Name</th>\n",
       "      <th>Email</th>\n",
       "      <th>Application Date</th>\n",
       "      <th>Country</th>\n",
       "      <th>YOE</th>\n",
       "      <th>Seniority</th>\n",
       "      <th>Technology</th>\n",
       "      <th>Code Challenge Score</th>\n",
       "      <th>Technical Interview Score</th>\n",
       "    </tr>\n",
       "  </thead>\n",
       "  <tbody>\n",
       "    <tr>\n",
       "      <th>3253</th>\n",
       "      <td>Bobby</td>\n",
       "      <td>Tromp</td>\n",
       "      <td>fern70@gmail.com</td>\n",
       "      <td>2018-06-07</td>\n",
       "      <td>Lesotho</td>\n",
       "      <td>18</td>\n",
       "      <td>Lead</td>\n",
       "      <td>Game Development</td>\n",
       "      <td>6</td>\n",
       "      <td>1</td>\n",
       "    </tr>\n",
       "    <tr>\n",
       "      <th>39960</th>\n",
       "      <td>Tiara</td>\n",
       "      <td>Davis</td>\n",
       "      <td>fern70@gmail.com</td>\n",
       "      <td>2018-05-01</td>\n",
       "      <td>Serbia</td>\n",
       "      <td>11</td>\n",
       "      <td>Mid-Level</td>\n",
       "      <td>Development - CMS Frontend</td>\n",
       "      <td>1</td>\n",
       "      <td>0</td>\n",
       "    </tr>\n",
       "    <tr>\n",
       "      <th>45748</th>\n",
       "      <td>Favian</td>\n",
       "      <td>Halvorson</td>\n",
       "      <td>fern70@gmail.com</td>\n",
       "      <td>2019-08-22</td>\n",
       "      <td>Kazakhstan</td>\n",
       "      <td>13</td>\n",
       "      <td>Intern</td>\n",
       "      <td>Security</td>\n",
       "      <td>7</td>\n",
       "      <td>0</td>\n",
       "    </tr>\n",
       "  </tbody>\n",
       "</table>\n",
       "</div>"
      ],
      "text/plain": [
       "      First Name  Last Name             Email Application Date     Country  \\\n",
       "3253       Bobby      Tromp  fern70@gmail.com       2018-06-07     Lesotho   \n",
       "39960      Tiara      Davis  fern70@gmail.com       2018-05-01      Serbia   \n",
       "45748     Favian  Halvorson  fern70@gmail.com       2019-08-22  Kazakhstan   \n",
       "\n",
       "       YOE  Seniority                  Technology  Code Challenge Score  \\\n",
       "3253    18       Lead            Game Development                     6   \n",
       "39960   11  Mid-Level  Development - CMS Frontend                     1   \n",
       "45748   13     Intern                    Security                     7   \n",
       "\n",
       "       Technical Interview Score  \n",
       "3253                           1  \n",
       "39960                          0  \n",
       "45748                          0  "
      ]
     },
     "execution_count": 11,
     "metadata": {},
     "output_type": "execute_result"
    }
   ],
   "source": [
    "df.loc[df['Email'] == 'fern70@gmail.com']"
   ]
  },
  {
   "cell_type": "markdown",
   "metadata": {},
   "source": [
    "In this small example, we can see how the data lacks integrity. Different people with the same email address appear for tests on different dates, and the years of experience are also inconsistent."
   ]
  },
  {
   "cell_type": "markdown",
   "metadata": {},
   "source": [
    "Will the numerical data have any correlation?\n"
   ]
  },
  {
   "cell_type": "code",
   "execution_count": 12,
   "metadata": {},
   "outputs": [
    {
     "data": {
      "image/png": "[encoded data removed]",
      "text/plain": [
       "<Figure size 640x480 with 2 Axes>"
      ]
     },
     "metadata": {},
     "output_type": "display_data"
    }
   ],
   "source": [
    "sns.heatmap(df.select_dtypes(int).corr(), annot=True, cmap='Blues')\n",
    "plt.show()"
   ]
  },
  {
   "cell_type": "markdown",
   "metadata": {},
   "source": [
    "There is a very weak correlation between the numerical variables, indicating that they are not strongly related to each other."
   ]
  },
  {
   "cell_type": "code",
   "execution_count": 13,
   "metadata": {},
   "outputs": [
    {
     "data": {
      "text/plain": [
       "Seniority\n",
       "Intern       7255\n",
       "Mid-Level    7253\n",
       "Trainee      7183\n",
       "Junior       7100\n",
       "Architect    7079\n",
       "Lead         7071\n",
       "Senior       7059\n",
       "Name: count, dtype: int64"
      ]
     },
     "execution_count": 13,
     "metadata": {},
     "output_type": "execute_result"
    }
   ],
   "source": [
    "seniority = df['Seniority'].value_counts()\n",
    "seniority"
   ]
  },
  {
   "cell_type": "code",
   "execution_count": 14,
   "metadata": {},
   "outputs": [
    {
     "data": {
      "image/png": "[encoded data removed]",
      "text/plain": [
       "<Figure size 640x480 with 1 Axes>"
      ]
     },
     "metadata": {},
     "output_type": "display_data"
    }
   ],
   "source": [
    "plt.pie(seniority, labels=seniority.index, autopct='%1.1f%%' )\n",
    "plt.title('Seniority')\n",
    "plt.show()"
   ]
  },
  {
   "cell_type": "markdown",
   "metadata": {},
   "source": [
    "The Seniority data maintains a uniform distribution, where all categories have similar percentages."
   ]
  },
  {
   "cell_type": "markdown",
   "metadata": {},
   "source": [
    "The ApplicationDate is currently stored as an object type, but it represents a date. We can easily convert it to a date type using Pandas to perform further analysis."
   ]
  },
  {
   "cell_type": "code",
   "execution_count": 16,
   "metadata": {},
   "outputs": [
    {
     "data": {
      "text/plain": [
       "Application Date\n",
       "2020    11237\n",
       "2018    11061\n",
       "2021    11051\n",
       "2019    11009\n",
       "2022     5642\n",
       "Name: count, dtype: int64"
      ]
     },
     "execution_count": 16,
     "metadata": {},
     "output_type": "execute_result"
    }
   ],
   "source": [
    "df['Application Date'] = pd.to_datetime(df['Application Date'])\n",
    "df['Application Date'].dt.year.value_counts()\n"
   ]
  },
  {
   "cell_type": "markdown",
   "metadata": {},
   "source": [
    "The tests were conducted from 2019 to 2022. The data shows that the number of records from 2019 to 2021 is similar, but there are only half as many records in 2022. What happened this year?"
   ]
  },
  {
   "cell_type": "code",
   "execution_count": 17,
   "metadata": {},
   "outputs": [
    {
     "data": {
      "text/plain": [
       "Application Date\n",
       "5    979\n",
       "3    962\n",
       "4    923\n",
       "1    912\n",
       "6    910\n",
       "2    844\n",
       "7    112\n",
       "Name: count, dtype: int64"
      ]
     },
     "execution_count": 17,
     "metadata": {},
     "output_type": "execute_result"
    }
   ],
   "source": [
    "df.loc[df['Application Date'].dt.year == 2022]['Application Date'].dt.month.value_counts()"
   ]
  },
  {
   "cell_type": "markdown",
   "metadata": {},
   "source": [
    "Considering that the months range from month 1 (January) to 12 (December), it seems these records were collected only until month 7 (July). This explains why there are fewer records for this year."
   ]
  },
  {
   "cell_type": "markdown",
   "metadata": {},
   "source": [
    "# Insights"
   ]
  },
  {
   "cell_type": "markdown",
   "metadata": {},
   "source": [
    "Is there a profile with a higher probability of being hired?"
   ]
  },
  {
   "cell_type": "code",
   "execution_count": 9,
   "metadata": {},
   "outputs": [],
   "source": [
    "df['hired'] = np.where((df['Code Challenge Score'] >= 7) & (df['Technical Interview Score'] >= 7), 1, 0)"
   ]
  },
  {
   "cell_type": "code",
   "execution_count": 19,
   "metadata": {},
   "outputs": [
    {
     "data": {
      "text/plain": [
       "hired\n",
       "0    92.57\n",
       "1     7.43\n",
       "Name: proportion, dtype: float64"
      ]
     },
     "execution_count": 19,
     "metadata": {},
     "output_type": "execute_result"
    }
   ],
   "source": [
    "df['hired'].value_counts(normalize = True) * 100"
   ]
  },
  {
   "cell_type": "markdown",
   "metadata": {},
   "source": [
    "Only about 7% of the individuals who took the test were hired. Let's see if there is any profile that is more likely to be hired."
   ]
  },
  {
   "cell_type": "code",
   "execution_count": 20,
   "metadata": {},
   "outputs": [
    {
     "data": {
      "text/plain": [
       "<Axes: xlabel='Seniority'>"
      ]
     },
     "execution_count": 20,
     "metadata": {},
     "output_type": "execute_result"
    },
    {
     "data": {
      "image/png": "[encoded data removed]",
      "text/plain": [
       "<Figure size 640x480 with 1 Axes>"
      ]
     },
     "metadata": {},
     "output_type": "display_data"
    }
   ],
   "source": [
    "temp = df.groupby('Seniority').hired.mean().sort_values(ascending = False)*100\n",
    "temp.plot.bar()"
   ]
  },
  {
   "cell_type": "markdown",
   "metadata": {},
   "source": [
    "It seems that candidates applying for internship positions have a higher probability of being hired."
   ]
  },
  {
   "cell_type": "code",
   "execution_count": 10,
   "metadata": {},
   "outputs": [
    {
     "data": {
      "text/plain": [
       "<Axes: xlabel='Country'>"
      ]
     },
     "execution_count": 10,
     "metadata": {},
     "output_type": "execute_result"
    },
    {
     "data": {
      "image/png": "[encoded data removed]",
      "text/plain": [
       "<Figure size 640x480 with 1 Axes>"
      ]
     },
     "metadata": {},
     "output_type": "display_data"
    }
   ],
   "source": [
    "temp = df.groupby('Country').hired.mean().sort_values(ascending = False)*100\n",
    "temp = temp.head()\n",
    "temp.plot.bar()"
   ]
  },
  {
   "cell_type": "markdown",
   "metadata": {},
   "source": [
    "\n",
    "It appears that the country with the highest number of hires is an island I had never heard of. The curious thing is that this island has a population of 0. Where are we finding people from this phantom country?"
   ]
  },
  {
   "cell_type": "code",
   "execution_count": 22,
   "metadata": {},
   "outputs": [
    {
     "data": {
      "text/plain": [
       "<Axes: xlabel='Technology'>"
      ]
     },
     "execution_count": 22,
     "metadata": {},
     "output_type": "execute_result"
    },
    {
     "data": {
      "image/png": "[encoded data removed]",
      "text/plain": [
       "<Figure size 640x480 with 1 Axes>"
      ]
     },
     "metadata": {},
     "output_type": "display_data"
    }
   ],
   "source": [
    "temp = df.groupby('Technology').hired.mean().sort_values(ascending = False)*100\n",
    "temp = temp.head()\n",
    "temp.plot.bar()"
   ]
  },
  {
   "cell_type": "code",
   "execution_count": 23,
   "metadata": {},
   "outputs": [
    {
     "data": {
      "text/plain": [
       "<Axes: xlabel='year'>"
      ]
     },
     "execution_count": 23,
     "metadata": {},
     "output_type": "execute_result"
    },
    {
     "data": {
      "image/png": "[encoded data removed]",
      "text/plain": [
       "<Figure size 640x480 with 1 Axes>"
      ]
     },
     "metadata": {},
     "output_type": "display_data"
    }
   ],
   "source": [
    "df_copy = df.copy()\n",
    "df_copy['year'] = df_copy['Application Date'].dt.year\n",
    "temp = df_copy.groupby('year').hired.mean().sort_values(ascending = False)*100\n",
    "temp.plot.bar()"
   ]
  },
  {
   "cell_type": "markdown",
   "metadata": {},
   "source": [
    "Conclusions\n",
    "\n",
    "\n",
    "Since the data was generated using simple random methods, it shows low variance in its distribution and has some integrity issues in certain records. Additionally, the relationship between YOE (Years of Experience) and Seniority is null, when theoretically, there should be a stronger relationship.\n",
    "\n",
    "The numerical data does not seem to have correlations between variables, meaning that the variables are independent of each other.\n",
    "\n",
    "There are 7 categorical variables for Seniority, which appear to have similar percentages of occurrence.\n",
    "\n",
    "Only 7% of the 50,000 candidates who took the tests were hired.\n",
    "\n",
    "The profiles with a higher probability of being hired are:\n",
    "\n",
    "\n",
    "*   Those who entered as interns\n",
    "\n",
    "*   Candidates from McDonald's Island (a country with no current population)\n",
    "\n",
    "*   People from the Development - CMS area\n",
    "\n",
    "*   Candidates who applied in 2019 had a higher chance of being hired\n",
    "\n",
    "\n"
   ]
  }
 ],
 "metadata": {
  "kernelspec": {
   "display_name": "venv",
   "language": "python",
   "name": "python3"
  },
  "language_info": {
   "codemirror_mode": {
    "name": "ipython",
    "version": 3
   },
   "file_extension": ".py",
   "mimetype": "text/x-python",
   "name": "python",
   "nbconvert_exporter": "python",
   "pygments_lexer": "ipython3",
   "version": "3.12.1"
  }
 },
 "nbformat": 4,
 "nbformat_minor": 2
}
